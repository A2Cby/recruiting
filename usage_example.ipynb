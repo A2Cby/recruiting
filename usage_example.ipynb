{
 "cells": [
  {
   "metadata": {
    "ExecuteTime": {
     "end_time": "2025-05-09T21:52:07.680934Z",
     "start_time": "2025-05-09T21:52:05.926682Z"
    }
   },
   "cell_type": "code",
   "source": [
    "import os\n",
    "\n",
    "# Import required libraries\n",
    "import pandas as pd\n",
    "import psycopg2\n",
    "import json\n",
    "import requests\n",
    "import dotenv\n",
    "\n",
    "# Load environment variables (for API keys)\n",
    "dotenv.load_dotenv()\n"
   ],
   "id": "d32da7e0b188a72f",
   "outputs": [
    {
     "data": {
      "text/plain": [
       "True"
      ]
     },
     "execution_count": 1,
     "metadata": {},
     "output_type": "execute_result"
    }
   ],
   "execution_count": 1
  },
  {
   "metadata": {},
   "cell_type": "markdown",
   "source": [
    "## 4. Create a Job Vacancy Description\n",
    "\n",
    "Create a detailed job description with all requirements.\n"
   ],
   "id": "ef92a2c9233e168f"
  },
  {
   "metadata": {
    "ExecuteTime": {
     "end_time": "2025-05-11T10:40:32.365115Z",
     "start_time": "2025-05-11T10:40:32.296289Z"
    }
   },
   "cell_type": "code",
   "source": [
    "import pandas as pd\n",
    "\n",
    "vacancies = pd.read_excel(\"4 вакансии на 05.05.2025.xlsx\")\n",
    "vacancy_id = vacancies.iloc[2][\"id\"]\n",
    "vacancy_text = str(vacancies.iloc[2].to_dict())\n",
    "vacancy_text"
   ],
   "id": "42d47cf16b6c7420",
   "outputs": [
    {
     "data": {
      "text/plain": [
       "\"{'id': 6432, 'title': 'Fullstack engineer (Python/Angular)', 'description': '**Company Overview:**  \\\\r\\\\nJoin an international team at a company that has pioneered the records and information management industry. With over 225,000 businesses in our client base, including 95% of the Fortune 1000, we focus on building secure and scalable solutions to manage and protect corporate information.  \\\\r\\\\n  \\\\r\\\\n**Role Overview:**  \\\\r\\\\nWe are looking for a FullStack Engineer with expertise in Python and Angular to help solve business and technology challenges through our engineering and IT consulting services.   \\\\r\\\\n  \\\\r\\\\n**Tech Stack:**   \\\\r\\\\n\\\\\\\\- Python;  \\\\r\\\\n\\\\\\\\- Angular;  \\\\r\\\\n\\\\\\\\- JavaScript;  \\\\r\\\\n\\\\\\\\- SQL.  \\\\r\\\\n  \\\\r\\\\n**Responsibilities:**  \\\\r\\\\n\\\\\\\\- Develop and maintain scalable fullstack applications using Python and Angular.  \\\\r\\\\n\\\\\\\\- Optimize SQL queries and manage database interactions.  \\\\r\\\\n\\\\\\\\- Collaborate with cross-functional teams, including DevOps, QA, and Product Analysts.  \\\\r\\\\n  \\\\r\\\\n**Requirements:**  \\\\r\\\\n\\\\\\\\- 4+ years of experience in fullstack development  \\\\r\\\\n\\\\\\\\- Strong hands-on experience with Python and Angular  \\\\r\\\\n\\\\\\\\- Proficiency in SQL  \\\\r\\\\n\\\\\\\\- Excellent communication and teamwork skills  \\\\r\\\\n\\\\\\\\- Good English communication skills (B2+ level)  \\\\r\\\\n  \\\\r\\\\n**Hiring Process:**  \\\\r\\\\n1\\\\\\\\. Interview with a recruiter  \\\\r\\\\n2\\\\\\\\. Technical interview  \\\\r\\\\n3\\\\\\\\. Interview with the client  \\\\r\\\\n4\\\\\\\\. Job offer\\\\r\\\\n\\\\r\\\\nвЂ‹', 'type': 'full time', 'location': 'Poland, EU', 'skills': 'Python, Angular, JavaScript, SQL', 'company_id': 178, 'just_refi_bonus': nan, 'full_refi_bonus': nan, 'salarymin': nan, 'salary': nan, 'currency': nan, 'experience': 4.0, 'places': nan, 'kinds': 'b2b, staff', 'created_at': Timestamp('2025-04-30 14:59:23'), 'modified_at': Timestamp('2025-05-02 10:44:36')}\""
      ]
     },
     "execution_count": 68,
     "metadata": {},
     "output_type": "execute_result"
    }
   ],
   "execution_count": 68
  },
  {
   "metadata": {},
   "cell_type": "markdown",
   "source": [
    "## 5. Send Data to the API\n",
    "\n",
    "Submit candidates for matching against the vacancy.\n"
   ],
   "id": "8117dc642f9fee80"
  },
  {
   "metadata": {
    "ExecuteTime": {
     "end_time": "2025-05-11T12:22:16.952578Z",
     "start_time": "2025-05-11T12:17:40.483862Z"
    }
   },
   "cell_type": "code",
   "source": [
    "\n",
    "payload = {\n",
    "    \"vacancy_id\": int(vacancy_id),\n",
    "    \"vacancy_text\": vacancy_text,\n",
    "}\n",
    "\n",
    "# Send the data to the matching endpoint\n",
    "response = requests.post(\n",
    "    \"http://93.127.132.57:8910/api/v1/matching/match_candidates_batch\",\n",
    "    json=payload\n",
    ")\n",
    "\n",
    "print(f\"API Response: {response.text}\")\n",
    "\n",
    "# Get the batch job ID from the response\n",
    "batch_id = json.loads(response.text)[\"batch_id\"]\n",
    "print(f\"Job started with ID: {batch_id}\")\n"
   ],
   "id": "d75fe314e4baedfa",
   "outputs": [
    {
     "name": "stdout",
     "output_type": "stream",
     "text": [
      "API Response: {\"batch_id\":\"batch_6820967867648190a06cd2c0f7d25932\",\"status\":\"validating\"}\n",
      "Job started with ID: batch_6820967867648190a06cd2c0f7d25932\n"
     ]
    }
   ],
   "execution_count": 73
  },
  {
   "metadata": {
    "ExecuteTime": {
     "end_time": "2025-05-11T12:30:03.703455Z",
     "start_time": "2025-05-11T12:30:03.115414Z"
    }
   },
   "cell_type": "code",
   "source": [
    "# Step 2: Check the job status\n",
    "response = requests.get(f\"http://93.127.132.57:8910/api/v1/matching/batch_job/{batch_id}\")\n",
    "print(f\"Current status: {response.text}\")\n",
    "\n",
    "# Note: The job may take some time to complete\n"
   ],
   "id": "2675296f88a1e4d8",
   "outputs": [
    {
     "name": "stdout",
     "output_type": "stream",
     "text": [
      "Current status: {\"batch_id\":\"batch_6820967867648190a06cd2c0f7d25932\",\"status\":\"in_progress\"}\n"
     ]
    }
   ],
   "execution_count": 76
  },
  {
   "metadata": {},
   "cell_type": "markdown",
   "source": [
    "## 6. Process the Results\n",
    "\n",
    "When complete, load and analyze the match results.\n"
   ],
   "id": "fc1e5bc3299c9f38"
  },
  {
   "metadata": {},
   "cell_type": "code",
   "source": [
    "# Load and analyze the results\n",
    "import pandas as pd\n",
    "# Replace the filename with your actual results file\n",
    "results = pd.read_json(\"data/candidate_scores_20250506_191347.json\")\n",
    "\n",
    "# Convert to a flat DataFrame for easier analysis\n",
    "df_candidates = pd.json_normalize(results[\"candidates\"])\n",
    "\n",
    "# Show the top matches\n",
    "df_candidates = df_candidates.sort_values(by=\"info.score\", ascending=False)\n",
    "print(f\"Found {len(df_candidates)} matching candidates\")\n",
    "df_candidates\n"
   ],
   "id": "ac3567a8ae2887da",
   "outputs": [],
   "execution_count": null
  },
  {
   "metadata": {},
   "cell_type": "code",
   "source": "df_candidates.to_csv(\"data/candidates_NodeJS_06.05.2025.csv\", index=False)",
   "id": "7613a3cba851fb3a",
   "outputs": [],
   "execution_count": null
  },
  {
   "metadata": {},
   "cell_type": "code",
   "source": "",
   "id": "f3c46086cfae63c0",
   "outputs": [],
   "execution_count": null
  },
  {
   "metadata": {},
   "cell_type": "code",
   "source": "",
   "id": "75b8df0339629bf4",
   "outputs": [],
   "execution_count": null
  },
  {
   "metadata": {},
   "cell_type": "code",
   "source": "",
   "id": "6358420e067e3d91",
   "outputs": [],
   "execution_count": null
  },
  {
   "metadata": {
    "ExecuteTime": {
     "end_time": "2025-05-10T22:29:49.964295Z",
     "start_time": "2025-05-10T22:29:44.427388Z"
    }
   },
   "cell_type": "code",
   "source": [
    "url = f\"http://93.127.132.57:8911/querystring\"\n",
    "\n",
    "headers = {\"Content-Type\": \"application/json\"}\n",
    "payload = [\n",
    "       {\n",
    "        \"vacancy_id\": \"6436\",\n",
    "        \"keywords\": [\"Node.js\", \"TypeScript\", \"AWS\", \"Node.js Developer\"],\n",
    "        \"start\":\"0\",\n",
    "        \"geo\":\"\"\n",
    "    }\n",
    "]\n",
    "params = {\"querystring\": json.dumps(payload)}\n",
    "\n",
    "try:\n",
    "    response = requests.post(url, headers=headers, params=params)\n",
    "except requests.exceptions.RequestException as exc:\n",
    "    print(f\"Network problem: {exc}\", file=sys.stderr)\n",
    "    sys.exit(1)\n",
    "\n",
    "# Print status and body in a readable way\n",
    "print(\"Status:\", response.status_code)\n",
    "print(\"Body:\", response.json())\n"
   ],
   "id": "b29b4e59fd9e15b0",
   "outputs": [
    {
     "ename": "KeyboardInterrupt",
     "evalue": "",
     "output_type": "error",
     "traceback": [
      "\u001B[31m---------------------------------------------------------------------------\u001B[39m",
      "\u001B[31mKeyboardInterrupt\u001B[39m                         Traceback (most recent call last)",
      "\u001B[36mCell\u001B[39m\u001B[36m \u001B[39m\u001B[32mIn[26]\u001B[39m\u001B[32m, line 15\u001B[39m\n\u001B[32m     12\u001B[39m params = {\u001B[33m\"\u001B[39m\u001B[33mquerystring\u001B[39m\u001B[33m\"\u001B[39m: json.dumps(payload)}\n\u001B[32m     14\u001B[39m \u001B[38;5;28;01mtry\u001B[39;00m:\n\u001B[32m---> \u001B[39m\u001B[32m15\u001B[39m     response = \u001B[43mrequests\u001B[49m\u001B[43m.\u001B[49m\u001B[43mpost\u001B[49m\u001B[43m(\u001B[49m\u001B[43murl\u001B[49m\u001B[43m,\u001B[49m\u001B[43m \u001B[49m\u001B[43mheaders\u001B[49m\u001B[43m=\u001B[49m\u001B[43mheaders\u001B[49m\u001B[43m,\u001B[49m\u001B[43m \u001B[49m\u001B[43mparams\u001B[49m\u001B[43m=\u001B[49m\u001B[43mparams\u001B[49m\u001B[43m)\u001B[49m\n\u001B[32m     16\u001B[39m \u001B[38;5;28;01mexcept\u001B[39;00m requests.exceptions.RequestException \u001B[38;5;28;01mas\u001B[39;00m exc:\n\u001B[32m     17\u001B[39m     \u001B[38;5;28mprint\u001B[39m(\u001B[33mf\u001B[39m\u001B[33m\"\u001B[39m\u001B[33mNetwork problem: \u001B[39m\u001B[38;5;132;01m{\u001B[39;00mexc\u001B[38;5;132;01m}\u001B[39;00m\u001B[33m\"\u001B[39m, file=sys.stderr)\n",
      "\u001B[36mFile \u001B[39m\u001B[32m~/DataspellProjects/recruiting/venv/lib/python3.12/site-packages/requests/api.py:115\u001B[39m, in \u001B[36mpost\u001B[39m\u001B[34m(url, data, json, **kwargs)\u001B[39m\n\u001B[32m    103\u001B[39m \u001B[38;5;28;01mdef\u001B[39;00m\u001B[38;5;250m \u001B[39m\u001B[34mpost\u001B[39m(url, data=\u001B[38;5;28;01mNone\u001B[39;00m, json=\u001B[38;5;28;01mNone\u001B[39;00m, **kwargs):\n\u001B[32m    104\u001B[39m \u001B[38;5;250m    \u001B[39m\u001B[33mr\u001B[39m\u001B[33;03m\"\"\"Sends a POST request.\u001B[39;00m\n\u001B[32m    105\u001B[39m \n\u001B[32m    106\u001B[39m \u001B[33;03m    :param url: URL for the new :class:`Request` object.\u001B[39;00m\n\u001B[32m   (...)\u001B[39m\u001B[32m    112\u001B[39m \u001B[33;03m    :rtype: requests.Response\u001B[39;00m\n\u001B[32m    113\u001B[39m \u001B[33;03m    \"\"\"\u001B[39;00m\n\u001B[32m--> \u001B[39m\u001B[32m115\u001B[39m     \u001B[38;5;28;01mreturn\u001B[39;00m \u001B[43mrequest\u001B[49m\u001B[43m(\u001B[49m\u001B[33;43m\"\u001B[39;49m\u001B[33;43mpost\u001B[39;49m\u001B[33;43m\"\u001B[39;49m\u001B[43m,\u001B[49m\u001B[43m \u001B[49m\u001B[43murl\u001B[49m\u001B[43m,\u001B[49m\u001B[43m \u001B[49m\u001B[43mdata\u001B[49m\u001B[43m=\u001B[49m\u001B[43mdata\u001B[49m\u001B[43m,\u001B[49m\u001B[43m \u001B[49m\u001B[43mjson\u001B[49m\u001B[43m=\u001B[49m\u001B[43mjson\u001B[49m\u001B[43m,\u001B[49m\u001B[43m \u001B[49m\u001B[43m*\u001B[49m\u001B[43m*\u001B[49m\u001B[43mkwargs\u001B[49m\u001B[43m)\u001B[49m\n",
      "\u001B[36mFile \u001B[39m\u001B[32m~/DataspellProjects/recruiting/venv/lib/python3.12/site-packages/requests/api.py:59\u001B[39m, in \u001B[36mrequest\u001B[39m\u001B[34m(method, url, **kwargs)\u001B[39m\n\u001B[32m     55\u001B[39m \u001B[38;5;66;03m# By using the 'with' statement we are sure the session is closed, thus we\u001B[39;00m\n\u001B[32m     56\u001B[39m \u001B[38;5;66;03m# avoid leaving sockets open which can trigger a ResourceWarning in some\u001B[39;00m\n\u001B[32m     57\u001B[39m \u001B[38;5;66;03m# cases, and look like a memory leak in others.\u001B[39;00m\n\u001B[32m     58\u001B[39m \u001B[38;5;28;01mwith\u001B[39;00m sessions.Session() \u001B[38;5;28;01mas\u001B[39;00m session:\n\u001B[32m---> \u001B[39m\u001B[32m59\u001B[39m     \u001B[38;5;28;01mreturn\u001B[39;00m \u001B[43msession\u001B[49m\u001B[43m.\u001B[49m\u001B[43mrequest\u001B[49m\u001B[43m(\u001B[49m\u001B[43mmethod\u001B[49m\u001B[43m=\u001B[49m\u001B[43mmethod\u001B[49m\u001B[43m,\u001B[49m\u001B[43m \u001B[49m\u001B[43murl\u001B[49m\u001B[43m=\u001B[49m\u001B[43murl\u001B[49m\u001B[43m,\u001B[49m\u001B[43m \u001B[49m\u001B[43m*\u001B[49m\u001B[43m*\u001B[49m\u001B[43mkwargs\u001B[49m\u001B[43m)\u001B[49m\n",
      "\u001B[36mFile \u001B[39m\u001B[32m~/DataspellProjects/recruiting/venv/lib/python3.12/site-packages/requests/sessions.py:589\u001B[39m, in \u001B[36mSession.request\u001B[39m\u001B[34m(self, method, url, params, data, headers, cookies, files, auth, timeout, allow_redirects, proxies, hooks, stream, verify, cert, json)\u001B[39m\n\u001B[32m    584\u001B[39m send_kwargs = {\n\u001B[32m    585\u001B[39m     \u001B[33m\"\u001B[39m\u001B[33mtimeout\u001B[39m\u001B[33m\"\u001B[39m: timeout,\n\u001B[32m    586\u001B[39m     \u001B[33m\"\u001B[39m\u001B[33mallow_redirects\u001B[39m\u001B[33m\"\u001B[39m: allow_redirects,\n\u001B[32m    587\u001B[39m }\n\u001B[32m    588\u001B[39m send_kwargs.update(settings)\n\u001B[32m--> \u001B[39m\u001B[32m589\u001B[39m resp = \u001B[38;5;28;43mself\u001B[39;49m\u001B[43m.\u001B[49m\u001B[43msend\u001B[49m\u001B[43m(\u001B[49m\u001B[43mprep\u001B[49m\u001B[43m,\u001B[49m\u001B[43m \u001B[49m\u001B[43m*\u001B[49m\u001B[43m*\u001B[49m\u001B[43msend_kwargs\u001B[49m\u001B[43m)\u001B[49m\n\u001B[32m    591\u001B[39m \u001B[38;5;28;01mreturn\u001B[39;00m resp\n",
      "\u001B[36mFile \u001B[39m\u001B[32m~/DataspellProjects/recruiting/venv/lib/python3.12/site-packages/requests/sessions.py:703\u001B[39m, in \u001B[36mSession.send\u001B[39m\u001B[34m(self, request, **kwargs)\u001B[39m\n\u001B[32m    700\u001B[39m start = preferred_clock()\n\u001B[32m    702\u001B[39m \u001B[38;5;66;03m# Send the request\u001B[39;00m\n\u001B[32m--> \u001B[39m\u001B[32m703\u001B[39m r = \u001B[43madapter\u001B[49m\u001B[43m.\u001B[49m\u001B[43msend\u001B[49m\u001B[43m(\u001B[49m\u001B[43mrequest\u001B[49m\u001B[43m,\u001B[49m\u001B[43m \u001B[49m\u001B[43m*\u001B[49m\u001B[43m*\u001B[49m\u001B[43mkwargs\u001B[49m\u001B[43m)\u001B[49m\n\u001B[32m    705\u001B[39m \u001B[38;5;66;03m# Total elapsed time of the request (approximately)\u001B[39;00m\n\u001B[32m    706\u001B[39m elapsed = preferred_clock() - start\n",
      "\u001B[36mFile \u001B[39m\u001B[32m~/DataspellProjects/recruiting/venv/lib/python3.12/site-packages/requests/adapters.py:667\u001B[39m, in \u001B[36mHTTPAdapter.send\u001B[39m\u001B[34m(self, request, stream, timeout, verify, cert, proxies)\u001B[39m\n\u001B[32m    664\u001B[39m     timeout = TimeoutSauce(connect=timeout, read=timeout)\n\u001B[32m    666\u001B[39m \u001B[38;5;28;01mtry\u001B[39;00m:\n\u001B[32m--> \u001B[39m\u001B[32m667\u001B[39m     resp = \u001B[43mconn\u001B[49m\u001B[43m.\u001B[49m\u001B[43murlopen\u001B[49m\u001B[43m(\u001B[49m\n\u001B[32m    668\u001B[39m \u001B[43m        \u001B[49m\u001B[43mmethod\u001B[49m\u001B[43m=\u001B[49m\u001B[43mrequest\u001B[49m\u001B[43m.\u001B[49m\u001B[43mmethod\u001B[49m\u001B[43m,\u001B[49m\n\u001B[32m    669\u001B[39m \u001B[43m        \u001B[49m\u001B[43murl\u001B[49m\u001B[43m=\u001B[49m\u001B[43murl\u001B[49m\u001B[43m,\u001B[49m\n\u001B[32m    670\u001B[39m \u001B[43m        \u001B[49m\u001B[43mbody\u001B[49m\u001B[43m=\u001B[49m\u001B[43mrequest\u001B[49m\u001B[43m.\u001B[49m\u001B[43mbody\u001B[49m\u001B[43m,\u001B[49m\n\u001B[32m    671\u001B[39m \u001B[43m        \u001B[49m\u001B[43mheaders\u001B[49m\u001B[43m=\u001B[49m\u001B[43mrequest\u001B[49m\u001B[43m.\u001B[49m\u001B[43mheaders\u001B[49m\u001B[43m,\u001B[49m\n\u001B[32m    672\u001B[39m \u001B[43m        \u001B[49m\u001B[43mredirect\u001B[49m\u001B[43m=\u001B[49m\u001B[38;5;28;43;01mFalse\u001B[39;49;00m\u001B[43m,\u001B[49m\n\u001B[32m    673\u001B[39m \u001B[43m        \u001B[49m\u001B[43massert_same_host\u001B[49m\u001B[43m=\u001B[49m\u001B[38;5;28;43;01mFalse\u001B[39;49;00m\u001B[43m,\u001B[49m\n\u001B[32m    674\u001B[39m \u001B[43m        \u001B[49m\u001B[43mpreload_content\u001B[49m\u001B[43m=\u001B[49m\u001B[38;5;28;43;01mFalse\u001B[39;49;00m\u001B[43m,\u001B[49m\n\u001B[32m    675\u001B[39m \u001B[43m        \u001B[49m\u001B[43mdecode_content\u001B[49m\u001B[43m=\u001B[49m\u001B[38;5;28;43;01mFalse\u001B[39;49;00m\u001B[43m,\u001B[49m\n\u001B[32m    676\u001B[39m \u001B[43m        \u001B[49m\u001B[43mretries\u001B[49m\u001B[43m=\u001B[49m\u001B[38;5;28;43mself\u001B[39;49m\u001B[43m.\u001B[49m\u001B[43mmax_retries\u001B[49m\u001B[43m,\u001B[49m\n\u001B[32m    677\u001B[39m \u001B[43m        \u001B[49m\u001B[43mtimeout\u001B[49m\u001B[43m=\u001B[49m\u001B[43mtimeout\u001B[49m\u001B[43m,\u001B[49m\n\u001B[32m    678\u001B[39m \u001B[43m        \u001B[49m\u001B[43mchunked\u001B[49m\u001B[43m=\u001B[49m\u001B[43mchunked\u001B[49m\u001B[43m,\u001B[49m\n\u001B[32m    679\u001B[39m \u001B[43m    \u001B[49m\u001B[43m)\u001B[49m\n\u001B[32m    681\u001B[39m \u001B[38;5;28;01mexcept\u001B[39;00m (ProtocolError, \u001B[38;5;167;01mOSError\u001B[39;00m) \u001B[38;5;28;01mas\u001B[39;00m err:\n\u001B[32m    682\u001B[39m     \u001B[38;5;28;01mraise\u001B[39;00m \u001B[38;5;167;01mConnectionError\u001B[39;00m(err, request=request)\n",
      "\u001B[36mFile \u001B[39m\u001B[32m~/DataspellProjects/recruiting/venv/lib/python3.12/site-packages/urllib3/connectionpool.py:787\u001B[39m, in \u001B[36mHTTPConnectionPool.urlopen\u001B[39m\u001B[34m(self, method, url, body, headers, retries, redirect, assert_same_host, timeout, pool_timeout, release_conn, chunked, body_pos, preload_content, decode_content, **response_kw)\u001B[39m\n\u001B[32m    784\u001B[39m response_conn = conn \u001B[38;5;28;01mif\u001B[39;00m \u001B[38;5;129;01mnot\u001B[39;00m release_conn \u001B[38;5;28;01melse\u001B[39;00m \u001B[38;5;28;01mNone\u001B[39;00m\n\u001B[32m    786\u001B[39m \u001B[38;5;66;03m# Make the request on the HTTPConnection object\u001B[39;00m\n\u001B[32m--> \u001B[39m\u001B[32m787\u001B[39m response = \u001B[38;5;28;43mself\u001B[39;49m\u001B[43m.\u001B[49m\u001B[43m_make_request\u001B[49m\u001B[43m(\u001B[49m\n\u001B[32m    788\u001B[39m \u001B[43m    \u001B[49m\u001B[43mconn\u001B[49m\u001B[43m,\u001B[49m\n\u001B[32m    789\u001B[39m \u001B[43m    \u001B[49m\u001B[43mmethod\u001B[49m\u001B[43m,\u001B[49m\n\u001B[32m    790\u001B[39m \u001B[43m    \u001B[49m\u001B[43murl\u001B[49m\u001B[43m,\u001B[49m\n\u001B[32m    791\u001B[39m \u001B[43m    \u001B[49m\u001B[43mtimeout\u001B[49m\u001B[43m=\u001B[49m\u001B[43mtimeout_obj\u001B[49m\u001B[43m,\u001B[49m\n\u001B[32m    792\u001B[39m \u001B[43m    \u001B[49m\u001B[43mbody\u001B[49m\u001B[43m=\u001B[49m\u001B[43mbody\u001B[49m\u001B[43m,\u001B[49m\n\u001B[32m    793\u001B[39m \u001B[43m    \u001B[49m\u001B[43mheaders\u001B[49m\u001B[43m=\u001B[49m\u001B[43mheaders\u001B[49m\u001B[43m,\u001B[49m\n\u001B[32m    794\u001B[39m \u001B[43m    \u001B[49m\u001B[43mchunked\u001B[49m\u001B[43m=\u001B[49m\u001B[43mchunked\u001B[49m\u001B[43m,\u001B[49m\n\u001B[32m    795\u001B[39m \u001B[43m    \u001B[49m\u001B[43mretries\u001B[49m\u001B[43m=\u001B[49m\u001B[43mretries\u001B[49m\u001B[43m,\u001B[49m\n\u001B[32m    796\u001B[39m \u001B[43m    \u001B[49m\u001B[43mresponse_conn\u001B[49m\u001B[43m=\u001B[49m\u001B[43mresponse_conn\u001B[49m\u001B[43m,\u001B[49m\n\u001B[32m    797\u001B[39m \u001B[43m    \u001B[49m\u001B[43mpreload_content\u001B[49m\u001B[43m=\u001B[49m\u001B[43mpreload_content\u001B[49m\u001B[43m,\u001B[49m\n\u001B[32m    798\u001B[39m \u001B[43m    \u001B[49m\u001B[43mdecode_content\u001B[49m\u001B[43m=\u001B[49m\u001B[43mdecode_content\u001B[49m\u001B[43m,\u001B[49m\n\u001B[32m    799\u001B[39m \u001B[43m    \u001B[49m\u001B[43m*\u001B[49m\u001B[43m*\u001B[49m\u001B[43mresponse_kw\u001B[49m\u001B[43m,\u001B[49m\n\u001B[32m    800\u001B[39m \u001B[43m\u001B[49m\u001B[43m)\u001B[49m\n\u001B[32m    802\u001B[39m \u001B[38;5;66;03m# Everything went great!\u001B[39;00m\n\u001B[32m    803\u001B[39m clean_exit = \u001B[38;5;28;01mTrue\u001B[39;00m\n",
      "\u001B[36mFile \u001B[39m\u001B[32m~/DataspellProjects/recruiting/venv/lib/python3.12/site-packages/urllib3/connectionpool.py:534\u001B[39m, in \u001B[36mHTTPConnectionPool._make_request\u001B[39m\u001B[34m(self, conn, method, url, body, headers, retries, timeout, chunked, response_conn, preload_content, decode_content, enforce_content_length)\u001B[39m\n\u001B[32m    532\u001B[39m \u001B[38;5;66;03m# Receive the response from the server\u001B[39;00m\n\u001B[32m    533\u001B[39m \u001B[38;5;28;01mtry\u001B[39;00m:\n\u001B[32m--> \u001B[39m\u001B[32m534\u001B[39m     response = \u001B[43mconn\u001B[49m\u001B[43m.\u001B[49m\u001B[43mgetresponse\u001B[49m\u001B[43m(\u001B[49m\u001B[43m)\u001B[49m\n\u001B[32m    535\u001B[39m \u001B[38;5;28;01mexcept\u001B[39;00m (BaseSSLError, \u001B[38;5;167;01mOSError\u001B[39;00m) \u001B[38;5;28;01mas\u001B[39;00m e:\n\u001B[32m    536\u001B[39m     \u001B[38;5;28mself\u001B[39m._raise_timeout(err=e, url=url, timeout_value=read_timeout)\n",
      "\u001B[36mFile \u001B[39m\u001B[32m~/DataspellProjects/recruiting/venv/lib/python3.12/site-packages/urllib3/connection.py:516\u001B[39m, in \u001B[36mHTTPConnection.getresponse\u001B[39m\u001B[34m(self)\u001B[39m\n\u001B[32m    513\u001B[39m _shutdown = \u001B[38;5;28mgetattr\u001B[39m(\u001B[38;5;28mself\u001B[39m.sock, \u001B[33m\"\u001B[39m\u001B[33mshutdown\u001B[39m\u001B[33m\"\u001B[39m, \u001B[38;5;28;01mNone\u001B[39;00m)\n\u001B[32m    515\u001B[39m \u001B[38;5;66;03m# Get the response from http.client.HTTPConnection\u001B[39;00m\n\u001B[32m--> \u001B[39m\u001B[32m516\u001B[39m httplib_response = \u001B[38;5;28;43msuper\u001B[39;49m\u001B[43m(\u001B[49m\u001B[43m)\u001B[49m\u001B[43m.\u001B[49m\u001B[43mgetresponse\u001B[49m\u001B[43m(\u001B[49m\u001B[43m)\u001B[49m\n\u001B[32m    518\u001B[39m \u001B[38;5;28;01mtry\u001B[39;00m:\n\u001B[32m    519\u001B[39m     assert_header_parsing(httplib_response.msg)\n",
      "\u001B[36mFile \u001B[39m\u001B[32m/Library/Frameworks/Python.framework/Versions/3.12/lib/python3.12/http/client.py:1428\u001B[39m, in \u001B[36mHTTPConnection.getresponse\u001B[39m\u001B[34m(self)\u001B[39m\n\u001B[32m   1426\u001B[39m \u001B[38;5;28;01mtry\u001B[39;00m:\n\u001B[32m   1427\u001B[39m     \u001B[38;5;28;01mtry\u001B[39;00m:\n\u001B[32m-> \u001B[39m\u001B[32m1428\u001B[39m         \u001B[43mresponse\u001B[49m\u001B[43m.\u001B[49m\u001B[43mbegin\u001B[49m\u001B[43m(\u001B[49m\u001B[43m)\u001B[49m\n\u001B[32m   1429\u001B[39m     \u001B[38;5;28;01mexcept\u001B[39;00m \u001B[38;5;167;01mConnectionError\u001B[39;00m:\n\u001B[32m   1430\u001B[39m         \u001B[38;5;28mself\u001B[39m.close()\n",
      "\u001B[36mFile \u001B[39m\u001B[32m/Library/Frameworks/Python.framework/Versions/3.12/lib/python3.12/http/client.py:331\u001B[39m, in \u001B[36mHTTPResponse.begin\u001B[39m\u001B[34m(self)\u001B[39m\n\u001B[32m    329\u001B[39m \u001B[38;5;66;03m# read until we get a non-100 response\u001B[39;00m\n\u001B[32m    330\u001B[39m \u001B[38;5;28;01mwhile\u001B[39;00m \u001B[38;5;28;01mTrue\u001B[39;00m:\n\u001B[32m--> \u001B[39m\u001B[32m331\u001B[39m     version, status, reason = \u001B[38;5;28;43mself\u001B[39;49m\u001B[43m.\u001B[49m\u001B[43m_read_status\u001B[49m\u001B[43m(\u001B[49m\u001B[43m)\u001B[49m\n\u001B[32m    332\u001B[39m     \u001B[38;5;28;01mif\u001B[39;00m status != CONTINUE:\n\u001B[32m    333\u001B[39m         \u001B[38;5;28;01mbreak\u001B[39;00m\n",
      "\u001B[36mFile \u001B[39m\u001B[32m/Library/Frameworks/Python.framework/Versions/3.12/lib/python3.12/http/client.py:292\u001B[39m, in \u001B[36mHTTPResponse._read_status\u001B[39m\u001B[34m(self)\u001B[39m\n\u001B[32m    291\u001B[39m \u001B[38;5;28;01mdef\u001B[39;00m\u001B[38;5;250m \u001B[39m\u001B[34m_read_status\u001B[39m(\u001B[38;5;28mself\u001B[39m):\n\u001B[32m--> \u001B[39m\u001B[32m292\u001B[39m     line = \u001B[38;5;28mstr\u001B[39m(\u001B[38;5;28;43mself\u001B[39;49m\u001B[43m.\u001B[49m\u001B[43mfp\u001B[49m\u001B[43m.\u001B[49m\u001B[43mreadline\u001B[49m\u001B[43m(\u001B[49m\u001B[43m_MAXLINE\u001B[49m\u001B[43m \u001B[49m\u001B[43m+\u001B[49m\u001B[43m \u001B[49m\u001B[32;43m1\u001B[39;49m\u001B[43m)\u001B[49m, \u001B[33m\"\u001B[39m\u001B[33miso-8859-1\u001B[39m\u001B[33m\"\u001B[39m)\n\u001B[32m    293\u001B[39m     \u001B[38;5;28;01mif\u001B[39;00m \u001B[38;5;28mlen\u001B[39m(line) > _MAXLINE:\n\u001B[32m    294\u001B[39m         \u001B[38;5;28;01mraise\u001B[39;00m LineTooLong(\u001B[33m\"\u001B[39m\u001B[33mstatus line\u001B[39m\u001B[33m\"\u001B[39m)\n",
      "\u001B[36mFile \u001B[39m\u001B[32m/Library/Frameworks/Python.framework/Versions/3.12/lib/python3.12/socket.py:720\u001B[39m, in \u001B[36mSocketIO.readinto\u001B[39m\u001B[34m(self, b)\u001B[39m\n\u001B[32m    718\u001B[39m \u001B[38;5;28;01mwhile\u001B[39;00m \u001B[38;5;28;01mTrue\u001B[39;00m:\n\u001B[32m    719\u001B[39m     \u001B[38;5;28;01mtry\u001B[39;00m:\n\u001B[32m--> \u001B[39m\u001B[32m720\u001B[39m         \u001B[38;5;28;01mreturn\u001B[39;00m \u001B[38;5;28;43mself\u001B[39;49m\u001B[43m.\u001B[49m\u001B[43m_sock\u001B[49m\u001B[43m.\u001B[49m\u001B[43mrecv_into\u001B[49m\u001B[43m(\u001B[49m\u001B[43mb\u001B[49m\u001B[43m)\u001B[49m\n\u001B[32m    721\u001B[39m     \u001B[38;5;28;01mexcept\u001B[39;00m timeout:\n\u001B[32m    722\u001B[39m         \u001B[38;5;28mself\u001B[39m._timeout_occurred = \u001B[38;5;28;01mTrue\u001B[39;00m\n",
      "\u001B[31mKeyboardInterrupt\u001B[39m: "
     ]
    }
   ],
   "execution_count": 26
  },
  {
   "metadata": {
    "ExecuteTime": {
     "end_time": "2025-05-10T15:27:11.293259Z",
     "start_time": "2025-05-10T15:27:11.282587Z"
    }
   },
   "cell_type": "code",
   "source": "response.json()[\"message\"]",
   "id": "c0c55e3339c4406f",
   "outputs": [
    {
     "data": {
      "text/plain": [
       "'Vacancies were handled'"
      ]
     },
     "execution_count": 19,
     "metadata": {},
     "output_type": "execute_result"
    }
   ],
   "execution_count": 19
  },
  {
   "metadata": {},
   "cell_type": "code",
   "outputs": [],
   "execution_count": null,
   "source": "",
   "id": "617118afe6d5e16d"
  },
  {
   "metadata": {},
   "cell_type": "code",
   "outputs": [],
   "execution_count": null,
   "source": "",
   "id": "a8dd15220101fa1e"
  },
  {
   "metadata": {
    "ExecuteTime": {
     "end_time": "2025-05-11T10:37:26.786845Z",
     "start_time": "2025-05-11T10:37:23.861615Z"
    }
   },
   "cell_type": "code",
   "source": [
    "from openai import OpenAI\n",
    "import os\n",
    "from enum import Enum\n",
    "from typing import List\n",
    "from pydantic import BaseModel, Field\n",
    "\n",
    "\n",
    "\n",
    "\n",
    "class KeywordResponse(BaseModel):\n",
    "    keywords: List[str]\n",
    "    locations: List[str] = Field(\n",
    "        default_factory=list,\n",
    "        description=\"List of country codes for candidate search locations. These codes must be valid `LocationCode` enum values.\"\n",
    "    )\n",
    "    explanation: str = Field(\n",
    "        description=\"Explanation of the keywords and locations extracted.\"\n",
    "    )\n",
    "\n",
    "\n",
    "sync_client = OpenAI(api_key=os.getenv(\"OPENAI_API_KEY\"))\n",
    "\n",
    "response = sync_client.beta.chat.completions.parse(\n",
    "    model=\"gpt-4o\",\n",
    "    messages=[\n",
    "        {\"role\": \"system\", \"content\": \"You are an expert keyword extractor for recruitment AI System. \"},\n",
    "        {\"role\": \"user\", \"content\": f\"\"\"\n",
    "Extract the most important keywords from the vacancy description to search for candidates in Linkedin.\n",
    "Focus on terms useful for searching a candidate database, limit the keywords to a maximum of 10.\n",
    "The list of keywords should be diverse, cover all aspects of the vacancy, and enrich the search.\n",
    "\n",
    "Also, provide a list of country codes for candidate search locations. These codes **must** be valid `LocationCode` enum values (e.g., UNITED_STATES, GERMANY, FRANCE are some examples of valid codes; refer to the `LocationCode` schema for all options). If the vacancy does not specify countries, return an empty list. Base your answer on the vacancy description.\n",
    "\n",
    "When you see a country name in the vacancy you MUST convert it to the exact enum in LocationCode:\n",
    "Poland -> POLAND, Germany -> GERMANY\n",
    "If the whole region instead of a country is mentioned, list all countries inside of the region. For example, EU -> [FRANCE, BELGIUM, SPAIN, ENGLAND, GERMANY, ITALY, NETHERLANDS, POLAND, SWITZERLAND, SWEDEN, AUSTRIA, BULGARIA, CROATIA, CZECH_REPUBLIC, DENMARK, ESTONIA, FINLAND, GREECE, HUNGARY, ROMANIA, PORTUGAL, NORWAY, LITHUANIA, LUXEMBOURG, SLOVAKIA] and so on.\n",
    "If no country is mentioned, return an empty list.\n",
    "                    Vacancy Description:\n",
    "                    ---\n",
    "                    I need python developer in belarus, if not, in caucasi\n",
    "                    ---\n",
    "    \"\"\"}\n",
    "    ]\n",
    "    ,\n",
    "    response_format=KeywordResponse,\n",
    "    temperature=0.0,\n",
    ")\n",
    "keywords = response.choices[0].message.parsed.keywords\n",
    "locations = response.choices[0].message.parsed.locations\n",
    "explanation = response.choices[0].message.parsed.explanation\n",
    "print(f\"Extracted keywords, location: {keywords} : {locations}; explanation: {explanation}\")"
   ],
   "id": "8b78579b1d256677",
   "outputs": [
    {
     "name": "stdout",
     "output_type": "stream",
     "text": [
      "Extracted keywords, location: ['Python Developer', 'Python', 'Software Development', 'Programming', 'Coding', 'Software Engineer', 'Backend Development', 'Scripting', 'Object-Oriented Programming', 'Software Design'] : ['BELARUS', 'GEORGIA', 'ARMENIA', 'AZERBAIJAN']; explanation: The vacancy is for a Python Developer, so 'Python Developer' and 'Python' are primary keywords. 'Software Development', 'Programming', 'Coding', 'Software Engineer', 'Backend Development', 'Scripting', 'Object-Oriented Programming', and 'Software Design' are included to cover various aspects of the role and skills required. The location specified is Belarus, and the Caucasus region, which includes Georgia, Armenia, and Azerbaijan, is also mentioned, so these are included in the location codes.\n"
     ]
    }
   ],
   "execution_count": 67
  },
  {
   "metadata": {
    "ExecuteTime": {
     "end_time": "2025-05-11T09:38:51.634457Z",
     "start_time": "2025-05-11T09:38:51.625195Z"
    }
   },
   "cell_type": "code",
   "source": "vacancy_text",
   "id": "3bb75359b15e4d1",
   "outputs": [
    {
     "data": {
      "text/plain": [
       "\"{'id': 6432, 'title': 'Fullstack engineer (Python/Angular)', 'description': '**Company Overview:**  \\\\r\\\\nJoin an international team at a company that has pioneered the records and information management industry. With over 225,000 businesses in our client base, including 95% of the Fortune 1000, we focus on building secure and scalable solutions to manage and protect corporate information.  \\\\r\\\\n  \\\\r\\\\n**Role Overview:**  \\\\r\\\\nWe are looking for a FullStack Engineer with expertise in Python and Angular to help solve business and technology challenges through our engineering and IT consulting services.   \\\\r\\\\n  \\\\r\\\\n**Tech Stack:**   \\\\r\\\\n\\\\\\\\- Python;  \\\\r\\\\n\\\\\\\\- Angular;  \\\\r\\\\n\\\\\\\\- JavaScript;  \\\\r\\\\n\\\\\\\\- SQL.  \\\\r\\\\n  \\\\r\\\\n**Responsibilities:**  \\\\r\\\\n\\\\\\\\- Develop and maintain scalable fullstack applications using Python and Angular.  \\\\r\\\\n\\\\\\\\- Optimize SQL queries and manage database interactions.  \\\\r\\\\n\\\\\\\\- Collaborate with cross-functional teams, including DevOps, QA, and Product Analysts.  \\\\r\\\\n  \\\\r\\\\n**Requirements:**  \\\\r\\\\n\\\\\\\\- 4+ years of experience in fullstack development  \\\\r\\\\n\\\\\\\\- Strong hands-on experience with Python and Angular  \\\\r\\\\n\\\\\\\\- Proficiency in SQL  \\\\r\\\\n\\\\\\\\- Excellent communication and teamwork skills  \\\\r\\\\n\\\\\\\\- Good English communication skills (B2+ level)  \\\\r\\\\n  \\\\r\\\\n**Hiring Process:**  \\\\r\\\\n1\\\\\\\\. Interview with a recruiter  \\\\r\\\\n2\\\\\\\\. Technical interview  \\\\r\\\\n3\\\\\\\\. Interview with the client  \\\\r\\\\n4\\\\\\\\. Job offer\\\\r\\\\n\\\\r\\\\nвЂ‹', 'type': 'full time', 'location': 'Poland, EU', 'skills': 'Python, Angular, JavaScript, SQL', 'company_id': 178, 'just_refi_bonus': nan, 'full_refi_bonus': nan, 'salarymin': nan, 'salary': nan, 'currency': nan, 'experience': 4.0, 'places': nan, 'kinds': 'b2b, staff', 'created_at': Timestamp('2025-04-30 14:59:23'), 'modified_at': Timestamp('2025-05-02 10:44:36')}\""
      ]
     },
     "execution_count": 52,
     "metadata": {},
     "output_type": "execute_result"
    }
   ],
   "execution_count": 52
  },
  {
   "metadata": {},
   "cell_type": "code",
   "outputs": [],
   "execution_count": null,
   "source": "",
   "id": "58d9b04124b18a64"
  }
 ],
 "metadata": {
  "kernelspec": {
   "display_name": "Python 3",
   "language": "python",
   "name": "python3"
  },
  "language_info": {
   "codemirror_mode": {
    "name": "ipython",
    "version": 2
   },
   "file_extension": ".py",
   "mimetype": "text/x-python",
   "name": "python",
   "nbconvert_exporter": "python",
   "pygments_lexer": "ipython2",
   "version": "2.7.6"
  }
 },
 "nbformat": 4,
 "nbformat_minor": 5
}
