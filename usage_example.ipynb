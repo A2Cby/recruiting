{
 "cells": [
  {
   "metadata": {},
   "cell_type": "markdown",
   "source": [
    "# Recruiting API: Quick Start Guide\n",
    "\n",
    " This notebook shows you how to:\n",
    " 1. Pull candidate data from PostgreSQL\n",
    " 2. Format it for the API\n",
    " 3. Send it to match against a job vacancy\n",
    " 4. Get and analyze the results\n"
   ],
   "id": "289d38be72045fbe"
  },
  {
   "metadata": {},
   "cell_type": "code",
   "outputs": [],
   "execution_count": null,
   "source": [
    "# Import required libraries\n",
    "import pandas as pd\n",
    "import psycopg2\n",
    "import json\n",
    "import requests\n",
    "import dotenv\n",
    "\n",
    "# Load environment variables (for API keys)\n",
    "dotenv.load_dotenv()\n"
   ],
   "id": "d32da7e0b188a72f"
  },
  {
   "metadata": {},
   "cell_type": "markdown",
   "source": [
    "## 1. Connect to the Database\n",
    "\n",
    "The PostgreSQL database stores candidate profiles with 3 key tables:\n",
    "- `person_data`: Basic profile info (name, skills, location)\n",
    "- `education_data`: Education history (schools, degrees, dates)\n",
    "- `position_data`: Work experience (companies, titles, responsibilities)\n"
   ],
   "id": "ccd79578b4a2ba13"
  },
  {
   "metadata": {},
   "cell_type": "code",
   "outputs": [],
   "execution_count": null,
   "source": [
    "# Connect to your PostgreSQL database\n",
    "conn = psycopg2.connect(\n",
    "    dbname=\"recruiting\",\n",
    "    user=\"postgres\",\n",
    "    password=\"postgres\",\n",
    "    host=\"127.0.0.1\",\n",
    "    port=6543  # Use your actual port forward\n",
    ")\n"
   ],
   "id": "7f14658a6dc25ad6"
  },
  {
   "metadata": {},
   "cell_type": "markdown",
   "source": [
    "## 2. Pull Candidate Data\n",
    "\n",
    "This SQL query joins all tables and formats the data for the API.\n"
   ],
   "id": "4e2a4acccd113079"
  },
  {
   "metadata": {},
   "cell_type": "code",
   "outputs": [],
   "execution_count": null,
   "source": [
    "query = \"\"\"\n",
    "WITH edu AS (\n",
    "    SELECT\n",
    "        username,\n",
    "        COALESCE(\n",
    "            string_agg(\n",
    "                format(\n",
    "                    'edu: id=%s, start_date=%s, end_date=%s, fieldOfStudy=%s, degree=%s, grade=%s, schoolName=%s, description=%s, activities=%s, schoolId=%s',\n",
    "                    id, start_date, end_date, \"fieldOfStudy\", degree, grade, \"schoolName\", description, activities, \"schoolId\"\n",
    "                ),\n",
    "                ' | '\n",
    "            ),\n",
    "            ''\n",
    "        ) AS edu_text\n",
    "    FROM education_data\n",
    "    GROUP BY username\n",
    "),\n",
    "pos AS (\n",
    "    SELECT\n",
    "        username,\n",
    "        COALESCE(\n",
    "            string_agg(\n",
    "                format(\n",
    "                    'pos: id=%s, companyId=%s, companyName=%s, companyUsername=%s, companyIndustry=%s, companyStaffCountRange=%s, title=%s, location=%s, description=%s, employmentType=%s, start_date=%s, end_date=%s',\n",
    "                    id, \"companyId\", \"companyName\", \"companyUsername\", \"companyIndustry\", \"companyStaffCountRange\", title, location, description, \"employmentType\", start_date, end_date\n",
    "                ),\n",
    "                ' | '\n",
    "            ),\n",
    "            ''\n",
    "        ) AS pos_text\n",
    "    FROM position_data\n",
    "    GROUP BY username\n",
    ")\n",
    "SELECT\n",
    "    p.id,\n",
    "    p.\"fullName\",\n",
    "    p.summary,\n",
    "    p.skills,\n",
    "    p.location,\n",
    "    p.country,\n",
    "    p.city,\n",
    "    concat_ws(' | ', edu_text, pos_text) AS combined_text\n",
    "FROM person_data p\n",
    "LEFT JOIN edu ON p.username = edu.username\n",
    "LEFT JOIN pos ON p.username = pos.username;\n",
    "\"\"\"\n",
    "\n",
    "# Run the query and get the data\n",
    "df_raw = pd.read_sql_query(query, conn)\n",
    "df = df_raw.copy()\n",
    "\n",
    "# Look at the data structure\n",
    "df_raw.head(2)\n"
   ],
   "id": "fa6af639896ede5d"
  },
  {
   "metadata": {},
   "cell_type": "markdown",
   "source": [
    "## 3. Format for the API\n",
    "\n",
    "The API requires JSON data with an 'id' field and a 'text' field.\n"
   ],
   "id": "34c97c84cf4b62a1"
  },
  {
   "metadata": {},
   "cell_type": "code",
   "outputs": [],
   "execution_count": null,
   "source": [
    "# Create a copy of the raw data\n",
    "df = df_raw.copy()\n",
    "\n",
    "# Format candidate information into a structured text field\n",
    "df[\"text\"] = df.apply(lambda row: \"\\n\".join([\n",
    "    f\"fullName: {row['fullName']}\",\n",
    "    f\"summary: {row['summary']}\",\n",
    "    f\"skills: {row['skills']}\",\n",
    "    f\"location: {row['location']}\",\n",
    "    f\"country: {row['country']}\",\n",
    "    f\"city: {row['city']}\",\n",
    "    f\"combined_text: {row['combined_text']}\"\n",
    "]), axis=1)\n",
    "\n",
    "# Keep only the columns needed by the API\n",
    "df = df[[\"id\", \"text\"]]\n",
    "\n",
    "# Show the formatted data\n",
    "pd.set_option('display.max_colwidth', None)\n",
    "print(df.iloc[0][\"text\"][:500] + \"...\")  # Show sample of first record\n"
   ],
   "id": "dffcd4ce722c669d"
  },
  {
   "metadata": {},
   "cell_type": "markdown",
   "source": [
    "## 4. Create a Job Vacancy Description\n",
    "\n",
    "Create a detailed job description with all requirements.\n"
   ],
   "id": "ef92a2c9233e168f"
  },
  {
   "metadata": {},
   "cell_type": "code",
   "outputs": [],
   "execution_count": null,
   "source": [
    "# Write your job vacancy description\n",
    "vacancy_text = \"\"\"\n",
    "Название должности: Product Manager\n",
    "Альтернативные тайтлы: Country Manager, Business Development Manager, Regional Manager\n",
    "Опыт в годах: 3\n",
    "Обязательные навыки: Product development, Advanced Spanish, Latam region, Native Russian\n",
    "Дополнительно важно: важен русскоговорящий к-т\n",
    "Полезные навыки: New markets, Sales management, market research, budgeting\n",
    "Домены: must have iGaming, Gambling\n",
    "Локации поиска: Кипр, Латвия, Грузия, Мальта, Польша, Сербия, Мексика, Испания, Эстония, Россия, Болгария, Литва, Казахстан, Португалия, Таиланд, Бразилия, Аргентина, Чили, Турция\n",
    "Гражданство: не Армении, не Грузии\n",
    "\"\"\"\n"
   ],
   "id": "e41367ac5fa48921"
  },
  {
   "metadata": {},
   "cell_type": "markdown",
   "source": [
    "## 5. Send Data to the API\n",
    "\n",
    "Submit candidates for matching against the vacancy.\n"
   ],
   "id": "8117dc642f9fee80"
  },
  {
   "metadata": {},
   "cell_type": "code",
   "outputs": [],
   "execution_count": null,
   "source": [
    "# Step 1: Prepare and send the data\n",
    "candidates = df.to_dict(orient=\"records\")\n",
    "\n",
    "payload = {\n",
    "    \"vacancy_text\": vacancy_text,\n",
    "    \"candidates\": candidates\n",
    "}\n",
    "\n",
    "# Send the data to the matching endpoint\n",
    "response = requests.post(\n",
    "    \"http://localhost:8000/api/v1/matching/match_candidates_batch\",\n",
    "    json=payload\n",
    ")\n",
    "\n",
    "print(f\"API Response: {response.text}\")\n",
    "\n",
    "# Get the batch job ID from the response\n",
    "batch_id = json.loads(response.text)[\"batch_id\"]\n",
    "print(f\"Job started with ID: {batch_id}\")\n"
   ],
   "id": "d75fe314e4baedfa"
  },
  {
   "metadata": {},
   "cell_type": "code",
   "outputs": [],
   "execution_count": null,
   "source": [
    "# Step 2: Check the job status\n",
    "response = requests.get(f\"http://localhost:8000/api/v1/matching/batch_job/{batch_id}\")\n",
    "print(f\"Current status: {response.text}\")\n",
    "\n",
    "# Note: The job may take some time to complete\n",
    "# Keep checking until status is \"completed\"\n"
   ],
   "id": "2675296f88a1e4d8"
  },
  {
   "metadata": {},
   "cell_type": "markdown",
   "source": [
    "## 6. Process the Results\n",
    "\n",
    "When complete, load and analyze the match results.\n"
   ],
   "id": "fc1e5bc3299c9f38"
  },
  {
   "metadata": {},
   "cell_type": "code",
   "outputs": [],
   "execution_count": null,
   "source": [
    "# Load and analyze the results\n",
    "# Replace the filename with your actual results file\n",
    "results = pd.read_json(\"data/candidate_scores_20250504_000149.json\")\n",
    "\n",
    "# Convert to a flat DataFrame for easier analysis\n",
    "df_candidates = pd.json_normalize(results[\"candidates\"])\n",
    "\n",
    "# Show the top matches\n",
    "df_candidates = df_candidates.sort_values(by=\"score\", ascending=False)\n",
    "print(f\"Found {len(df_candidates)} matching candidates\")\n",
    "df_candidates\n"
   ],
   "id": "ac3567a8ae2887da"
  }
 ],
 "metadata": {
  "kernelspec": {
   "display_name": "Python 3",
   "language": "python",
   "name": "python3"
  },
  "language_info": {
   "codemirror_mode": {
    "name": "ipython",
    "version": 2
   },
   "file_extension": ".py",
   "mimetype": "text/x-python",
   "name": "python",
   "nbconvert_exporter": "python",
   "pygments_lexer": "ipython2",
   "version": "2.7.6"
  }
 },
 "nbformat": 4,
 "nbformat_minor": 5
}
